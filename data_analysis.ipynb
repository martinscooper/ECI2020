{
 "cells": [
  {
   "cell_type": "code",
   "execution_count": 1,
   "metadata": {},
   "outputs": [],
   "source": [
    "import pandas as pd\n",
    "import numpy as np\n",
    "import matplotlib.pyplot as plt\n",
    "import seaborn as sns\n",
    "sns.set()"
   ]
  },
  {
   "cell_type": "code",
   "execution_count": 48,
   "metadata": {},
   "outputs": [
    {
     "name": "stdout",
     "output_type": "stream",
     "text": [
      "Tamaños de entrenamiento\n",
      "Tamanio de X: (16947, 50)\n",
      "Tamanio de X_val: (2551, 50)\n",
      "Tamanio de y: (16947,)\n"
     ]
    }
   ],
   "source": [
    "df_train = pd.read_csv('CompetenciaECI/Entrenamieto_ECI_2020.csv', index_col = 'Opportunity_ID')\n",
    "df_val = pd.read_csv('CompetenciaECI/Validacion_ECI_2020.csv', index_col = 'Opportunity_ID')\n",
    "target = 'Stage'\n",
    "predictors = [x for x in df_train.columns if x not in [target]]\n",
    "y = df_train.loc[:,target].copy()\n",
    "y = (y=='Closed Won') * 1 \n",
    "df_train = df_train.loc[:, predictors]\n",
    "df = pd.concat([df_train,df_val], axis=0)\n",
    "print('Tamaños de entrenamiento')\n",
    "print(f'Tamanio de X: {df_train.shape}')\n",
    "print(f'Tamanio de X_val: {df_val.shape}')\n",
    "print(f'Tamanio de y: {y.shape}')"
   ]
  },
  {
   "cell_type": "markdown",
   "metadata": {},
   "source": [
    "## Valores faltantes"
   ]
  },
  {
   "cell_type": "code",
   "execution_count": 10,
   "metadata": {},
   "outputs": [
    {
     "name": "stdout",
     "output_type": "stream",
     "text": [
      "                 Total   Percent\n",
      "ASP               3209  0.189355\n",
      "ASP_(converted)   3209  0.189355\n",
      "Total_Amount        59  0.003481\n",
      "Prod_Category_A      0  0.000000\n",
      "Delivery_Terms       0  0.000000\n",
      "Quote_Type           0  0.000000\n",
      "                          Total   Percent\n",
      "ASP                          84  0.032928\n",
      "ASP_(converted)              84  0.032928\n",
      "Prod_Category_A               0  0.000000\n",
      "Opportunity_Created_Date      0  0.000000\n",
      "Delivery_Terms                0  0.000000\n",
      "Quote_Type                    0  0.000000\n",
      "                 Total   Percent\n",
      "ASP               3293  0.168889\n",
      "ASP_(converted)   3293  0.168889\n",
      "Total_Amount        59  0.003026\n",
      "Prod_Category_A      0  0.000000\n",
      "Delivery_Terms       0  0.000000\n",
      "Quote_Type           0  0.000000\n"
     ]
    }
   ],
   "source": [
    "def nan_values(df):\n",
    "    total = df.isnull().sum().sort_values(ascending=False)\n",
    "    percent = (df.isnull().sum()/df.isnull().count()).sort_values(ascending=False)\n",
    "    missing_data = pd.concat([total, percent], axis=1, keys=['Total', 'Percent'])\n",
    "    print(missing_data.head(6))\n",
    "nan_values(df_train)\n",
    "nan_values(df_val)\n",
    "nan_values(df)"
   ]
  },
  {
   "cell_type": "markdown",
   "metadata": {},
   "source": [
    "## Analisis de variables numericas "
   ]
  },
  {
   "cell_type": "markdown",
   "metadata": {},
   "source": [
    "## Valores None en variables numericas"
   ]
  },
  {
   "cell_type": "code",
   "execution_count": 11,
   "metadata": {},
   "outputs": [],
   "source": [
    "numerical_cols = ['Sales_Contract_No', 'ASP', 'ASP_(converted)', \n",
    "              'TRF', 'Total_Amount', 'Total_Taxable_Amount', 'ID']"
   ]
  },
  {
   "cell_type": "code",
   "execution_count": 15,
   "metadata": {},
   "outputs": [
    {
     "name": "stdout",
     "output_type": "stream",
     "text": [
      "                      Total   Percent\n",
      "Sales_Contract_No      6973  0.411459\n",
      "ID                        0  0.000000\n",
      "Total_Taxable_Amount      0  0.000000\n",
      "Total_Amount              0  0.000000\n",
      "TRF                       0  0.000000\n",
      "ASP_(converted)           0  0.000000\n",
      "ASP                       0  0.000000\n",
      "                      Total  Percent\n",
      "Sales_Contract_No      1213   0.4755\n",
      "ID                        0   0.0000\n",
      "Total_Taxable_Amount      0   0.0000\n",
      "Total_Amount              0   0.0000\n",
      "TRF                       0   0.0000\n",
      "ASP_(converted)           0   0.0000\n",
      "ASP                       0   0.0000\n",
      "                      Total   Percent\n",
      "Sales_Contract_No      8186  0.419838\n",
      "ID                        0  0.000000\n",
      "Total_Taxable_Amount      0  0.000000\n",
      "Total_Amount              0  0.000000\n",
      "TRF                       0  0.000000\n",
      "ASP_(converted)           0  0.000000\n",
      "ASP                       0  0.000000\n"
     ]
    },
    {
     "name": "stderr",
     "output_type": "stream",
     "text": [
      "/home/martin/anaconda3/envs/tesis_env/lib/python3.8/site-packages/pandas/core/ops/array_ops.py:253: FutureWarning: elementwise comparison failed; returning scalar instead, but in the future will perform elementwise comparison\n",
      "  res_values = method(rvalues)\n",
      "/home/martin/anaconda3/envs/tesis_env/lib/python3.8/site-packages/pandas/core/ops/array_ops.py:253: FutureWarning: elementwise comparison failed; returning scalar instead, but in the future will perform elementwise comparison\n",
      "  res_values = method(rvalues)\n",
      "/home/martin/anaconda3/envs/tesis_env/lib/python3.8/site-packages/pandas/core/ops/array_ops.py:253: FutureWarning: elementwise comparison failed; returning scalar instead, but in the future will perform elementwise comparison\n",
      "  res_values = method(rvalues)\n"
     ]
    }
   ],
   "source": [
    "def none_values(df):\n",
    "    df_num = df[numerical_cols]\n",
    "    total = df_num.apply(lambda x: x=='None').sum().sort_values(ascending=False)\n",
    "    percent = (total/df_num.apply(lambda x: x=='None').count()).sort_values(ascending=False)\n",
    "    missing_data = pd.concat([total, percent], axis=1, keys=['Total', 'Percent'])\n",
    "    print(missing_data.head(12))\n",
    "none_values(df_train)\n",
    "none_values(df_val)\n",
    "none_values(df)"
   ]
  },
  {
   "cell_type": "markdown",
   "metadata": {},
   "source": [
    "## Analisis de variables categoricas "
   ]
  },
  {
   "cell_type": "code",
   "execution_count": 45,
   "metadata": {},
   "outputs": [],
   "source": [
    "binary_cols = ['Pricing, Delivery_Terms_Quote_Appr', 'Pricing, Delivery_Terms_Approved', \n",
    "           'Bureaucratic_Code_0_Approval','Bureaucratic_Code_0_Approved']\n",
    "\n",
    "categorical_cols = ['Region','Territory','Bureaucratic_Code', \n",
    "                'Source ','Billing_Country','Account_Name',\n",
    "                'Opportunity_Name', 'Account_Owner',\n",
    "               'Opportunity_Owner','Account_Type', 'Opportunity_Type', \n",
    "                'Quote_Type', 'Delivery_Terms', 'Brand', 'Product_Type', \n",
    "                'Size','Product_Category_B', 'Currency', 'Last_Modified_By',\n",
    "                'Product_Family', 'Product_Name', 'ASP_Currency',\n",
    "                'ASP_(converted)_Currency','Delivery_Quarter',\n",
    "                'Total_Taxable_Amount_Currency',\n",
    "                'Prod_Category_A', 'Total_Amount_Currency'\n",
    "               ]\n",
    "cols = binary_cols + categorical_cols"
   ]
  },
  {
   "cell_type": "code",
   "execution_count": 46,
   "metadata": {},
   "outputs": [],
   "source": [
    "for d in [df, df_train, df_val]:\n",
    "    d[cols] = d[cols].astype('category')"
   ]
  },
  {
   "cell_type": "markdown",
   "metadata": {},
   "source": [
    "### Como cambian las variables categoricas dentro de una misma oportunidad"
   ]
  },
  {
   "cell_type": "code",
   "execution_count": 47,
   "metadata": {},
   "outputs": [
    {
     "name": "stdout",
     "output_type": "stream",
     "text": [
      "Region\n",
      "0\n",
      "Territory\n",
      "0\n",
      "Pricing, Delivery_Terms_Quote_Appr\n",
      "0\n",
      "Pricing, Delivery_Terms_Approved\n",
      "0\n",
      "Bureaucratic_Code_0_Approval\n",
      "0\n",
      "Bureaucratic_Code_0_Approved\n",
      "0\n",
      "Bureaucratic_Code\n",
      "0\n",
      "Source \n",
      "0\n",
      "Billing_Country\n",
      "0\n",
      "Account_Name\n",
      "0\n",
      "Opportunity_Name\n",
      "0\n",
      "Sales_Contract_No\n",
      "0\n",
      "Account_Owner\n",
      "0\n",
      "Opportunity_Owner\n",
      "0\n",
      "Account_Type\n",
      "0\n",
      "Opportunity_Type\n",
      "0\n",
      "Quote_Type\n",
      "0\n",
      "Delivery_Terms\n",
      "0\n",
      "Brand\n",
      "0\n",
      "Product_Type\n",
      "0\n",
      "Size\n",
      "0\n",
      "Product_Category_B\n",
      "0\n",
      "Currency\n",
      "0\n",
      "Last_Modified_By\n",
      "0\n",
      "Product_Family\n",
      "2639\n",
      "Product_Name\n",
      "2811\n",
      "ASP_Currency\n",
      "0\n",
      "ASP_(converted)_Currency\n",
      "0\n",
      "Delivery_Quarter\n",
      "421\n",
      "Total_Amount_Currency\n",
      "0\n",
      "Total_Taxable_Amount_Currency\n",
      "0\n",
      "Prod_Category_A\n",
      "0\n"
     ]
    }
   ],
   "source": [
    "# Que categorias tienen presentes diferentes valores en una misma oportunidad?\n",
    "# Product_Family, Product_Name y Delivery_Quarter\n",
    "\n",
    "d = df.select_dtypes(include=['category'])\n",
    "group = d.groupby(d.index)\n",
    "for col in d.columns:\n",
    "    print(col)\n",
    "    print(group[col].apply(lambda x: len(set(x))!=1).sum())"
   ]
  },
  {
   "cell_type": "markdown",
   "metadata": {},
   "source": [
    "## Valores None en columnas categoricas/binarias"
   ]
  },
  {
   "cell_type": "code",
   "execution_count": null,
   "metadata": {},
   "outputs": [],
   "source": [
    "#df[numerical_cols] = df[numerical_cols].astype('float64')\n",
    "def none_values(df):\n",
    "    df_cat = df[cols]\n",
    "    total = df_cat.apply(lambda x: x=='None').sum().sort_values(ascending=False)\n",
    "    percent = (total/df_cat.apply(lambda x: x=='None').count()).sort_values(ascending=False)\n",
    "    missing_data = pd.concat([total, percent], axis=1, keys=['Total', 'Percent'])\n",
    "    print(missing_data.head(12))\n",
    "none_values(df_train)\n",
    "none_values(df_val)\n",
    "none_values(df)"
   ]
  },
  {
   "cell_type": "markdown",
   "metadata": {},
   "source": [
    "## Relacion entre las categorias y la variable objetivo"
   ]
  },
  {
   "cell_type": "code",
   "execution_count": null,
   "metadata": {},
   "outputs": [],
   "source": [
    "d = pd.concat([df_train, y], axis=1)\n",
    "for col in d.select_dtypes(include='category').columns:\n",
    "    groups = d.groupby(col)\n",
    "    print(d.groupby(col).agg({col:'count', 'Stage':'mean'}).sort_values('Stage', ascending=False).head(30))\n"
   ]
  },
  {
   "cell_type": "markdown",
   "metadata": {},
   "source": [
    "### Cantidad de categorias por variable categorica"
   ]
  },
  {
   "cell_type": "code",
   "execution_count": null,
   "metadata": {},
   "outputs": [],
   "source": [
    "df.select_dtypes(include='category').nunique().sort_values(ascending=False)"
   ]
  },
  {
   "cell_type": "markdown",
   "metadata": {},
   "source": [
    "### Relation Region/Territorio\n",
    "- Cuanto el Territorio es None la region en gral es Japan\n",
    "- Japon tiene su propio territorio\n",
    "- Hay 5000 Nones en Territorio, siendo la mayoria de la region Japan\n",
    "- Decision: se completan los Nones con el nombre de las Region"
   ]
  },
  {
   "cell_type": "code",
   "execution_count": null,
   "metadata": {},
   "outputs": [],
   "source": [
    "# territorios por region\n",
    "df.loc[:,['Territory','Region']].groupby('Region')['Territory'].apply(set)"
   ]
  },
  {
   "cell_type": "code",
   "execution_count": null,
   "metadata": {},
   "outputs": [],
   "source": [
    "# a que region corresponden los valores nulos de los territorios?\n",
    "df.loc[df['Territory']=='None',['Territory','Region']].groupby('Region')['Region'].count()"
   ]
  },
  {
   "cell_type": "code",
   "execution_count": null,
   "metadata": {},
   "outputs": [],
   "source": [
    "# cuando la region es japon, hay muchos nones \n",
    "df.loc[df['Region']=='Japan',['Territory','Region']].groupby('Territory')['Territory'].count().sort_values(ascending=False)"
   ]
  },
  {
   "cell_type": "markdown",
   "metadata": {},
   "source": [
    "## Cantidad de registros por tipo en cada categoria y cantidad de categorias"
   ]
  },
  {
   "cell_type": "code",
   "execution_count": null,
   "metadata": {},
   "outputs": [],
   "source": [
    "def print_categorical_values(cat):\n",
    "    groups = df.groupby([cat])[cat]\n",
    "    print(groups.size().sort_values(ascending=False))\n",
    "    print(len(groups))\n",
    "    print()"
   ]
  },
  {
   "cell_type": "code",
   "execution_count": null,
   "metadata": {},
   "outputs": [],
   "source": [
    "for cat in categorical_cols:\n",
    "    print_categorical_values(cat)"
   ]
  },
  {
   "cell_type": "markdown",
   "metadata": {},
   "source": [
    "## Analisis variables fechas"
   ]
  },
  {
   "cell_type": "code",
   "execution_count": null,
   "metadata": {},
   "outputs": [],
   "source": [
    "datetime_cols = ['Account_Created_Date', 'Opportunity_Created_Date',\n",
    "             'Last_Activity','Quote_Expiry_Date', 'Last_Modified_Date',\n",
    "             'Planned_Delivery_Start_Date', 'Planned_Delivery_End_Date',\n",
    "             'Actual_Delivery_Date']"
   ]
  },
  {
   "cell_type": "code",
   "execution_count": null,
   "metadata": {},
   "outputs": [],
   "source": [
    "for d in [df,df_val,df_train]:\n",
    "    for col in datetime_cols:\n",
    "        d[col] = pd.to_datetime(d[col])\n"
   ]
  },
  {
   "cell_type": "code",
   "execution_count": null,
   "metadata": {},
   "outputs": [],
   "source": [
    "def none_values(df):\n",
    "    f = lambda x: x.isnull()\n",
    "    df_date = df[datetime_cols]\n",
    "    total = df_date.apply(f).sum().sort_values(ascending=False)\n",
    "    percent = (total/df_date.apply(f).count()).sort_values(ascending=False)\n",
    "    missing_data = pd.concat([total, percent], axis=1, keys=['Total', 'Percent'])\n",
    "    print(missing_data)\n",
    "none_values(df_train)\n",
    "none_values(df_val)\n",
    "none_values(df)"
   ]
  },
  {
   "cell_type": "code",
   "execution_count": null,
   "metadata": {},
   "outputs": [],
   "source": [
    "# Quiero ver cual es la relacion entre Quote_Expiry_Date y la variable objectivo\n",
    "# en 12mil de los casos de entrenamiento, cuando la fecha de vencimiento del presupuesto esta seteada, la oportunidad se gana\n",
    "quote_not_set = df_train['Quote_Expiry_Date'].isnull()\n",
    "print((quote_not_set != y.astype('bool')).sum())\n",
    "\n",
    "# y siempre se mantiene igual para la misma oportunidad\n",
    "print(quote_not_set.groupby(quote_not_set).apply(lambda x: len(set(x))!=1).sum())"
   ]
  },
  {
   "cell_type": "code",
   "execution_count": null,
   "metadata": {},
   "outputs": [],
   "source": [
    "# Las unicas variables de fecha que varian para una misma son Planned_Delivery_Start_Date y Planned_Delivery_End_Date\n",
    "d = pd.concat([df_train, df_val], axis=0).select_dtypes(include=['datetime'])\n",
    "for col in d.columns:\n",
    "    print(col)\n",
    "    print(d.groupby(d.index)[col].apply(lambda x: len(set(x))>1).sum())"
   ]
  },
  {
   "cell_type": "markdown",
   "metadata": {},
   "source": [
    "## Posibles target leackage\n",
    "- Submitted_for_Approval: casi toda 0\n",
    "- Delivery_Terms: nop\n",
    "- Quote_Expiry_Date\n",
    "- Actual_Delivery_Date: es puro NaT\n",
    "- Total_Power: no esta en el dataset (tampoco la categorica correspondiente)\n",
    "- Sales_Contract_No"
   ]
  },
  {
   "cell_type": "code",
   "execution_count": null,
   "metadata": {},
   "outputs": [],
   "source": [
    "# los tipos de terminos no muestran un especial inclinacion haciia las oportunidades perdidas o ganadas\n",
    "d = pd.concat([df_train, y], axis=1)\n",
    "d.groupby('Delivery_Terms').agg({'Delivery_Terms':'count', 'Stage':'mean'}).sort_values('Stage', ascending=False)"
   ]
  },
  {
   "cell_type": "code",
   "execution_count": 51,
   "metadata": {},
   "outputs": [
    {
     "data": {
      "text/html": [
       "<div>\n",
       "<style scoped>\n",
       "    .dataframe tbody tr th:only-of-type {\n",
       "        vertical-align: middle;\n",
       "    }\n",
       "\n",
       "    .dataframe tbody tr th {\n",
       "        vertical-align: top;\n",
       "    }\n",
       "\n",
       "    .dataframe thead tr th {\n",
       "        text-align: left;\n",
       "    }\n",
       "\n",
       "    .dataframe thead tr:last-of-type th {\n",
       "        text-align: right;\n",
       "    }\n",
       "</style>\n",
       "<table border=\"1\" class=\"dataframe\">\n",
       "  <thead>\n",
       "    <tr>\n",
       "      <th></th>\n",
       "      <th colspan=\"2\" halign=\"left\">Stage</th>\n",
       "    </tr>\n",
       "    <tr>\n",
       "      <th></th>\n",
       "      <th>count</th>\n",
       "      <th>mean</th>\n",
       "    </tr>\n",
       "    <tr>\n",
       "      <th>isNone</th>\n",
       "      <th></th>\n",
       "      <th></th>\n",
       "    </tr>\n",
       "  </thead>\n",
       "  <tbody>\n",
       "    <tr>\n",
       "      <th>False</th>\n",
       "      <td>9974</td>\n",
       "      <td>0.941949</td>\n",
       "    </tr>\n",
       "    <tr>\n",
       "      <th>True</th>\n",
       "      <td>6973</td>\n",
       "      <td>0.019791</td>\n",
       "    </tr>\n",
       "  </tbody>\n",
       "</table>\n",
       "</div>"
      ],
      "text/plain": [
       "       Stage          \n",
       "       count      mean\n",
       "isNone                \n",
       "False   9974  0.941949\n",
       "True    6973  0.019791"
      ]
     },
     "execution_count": 51,
     "metadata": {},
     "output_type": "execute_result"
    }
   ],
   "source": [
    "# Esta parece ser el target Leackage, los productos que \n",
    "# no tienen Sales_Contract_No tienen un bajisimo numero de exito\n",
    "d = pd.concat([df_train, y], axis=1).loc[:,['Sales_Contract_No','Stage']]\n",
    "d['isNone'] = d.Sales_Contract_No == 'None'\n",
    "d = d.groupby('isNone').agg(['count','mean'])\n",
    "d.sort_values(d.columns[0], ascending=False)\n",
    "# sigo en la proxima celda"
   ]
  },
  {
   "cell_type": "code",
   "execution_count": 49,
   "metadata": {},
   "outputs": [
    {
     "data": {
      "text/plain": [
       "Opportunity_ID\n",
       "0         True\n",
       "1        False\n",
       "2        False\n",
       "3         True\n",
       "4         True\n",
       "         ...  \n",
       "12364    False\n",
       "12365    False\n",
       "12366    False\n",
       "12367     True\n",
       "12368     True\n",
       "Name: Sales_Contract_No, Length: 19498, dtype: bool"
      ]
     },
     "execution_count": 49,
     "metadata": {},
     "output_type": "execute_result"
    }
   ],
   "source": [
    "d = pd.concat([df_train, df_val], axis=0)\n",
    "d.Sales_Contract_No == 'None'"
   ]
  },
  {
   "cell_type": "markdown",
   "metadata": {},
   "source": [
    "# Variable objetivo"
   ]
  },
  {
   "cell_type": "code",
   "execution_count": null,
   "metadata": {},
   "outputs": [],
   "source": [
    "print('Posibles valores de la variable objetivo')\n",
    "print(y.groupby(y).count())"
   ]
  },
  {
   "cell_type": "code",
   "execution_count": null,
   "metadata": {},
   "outputs": [],
   "source": [
    "#prepare y\n",
    "y.loc[y == 'Closed Won'] = 1\n",
    "y.loc[y != 'Closed Won'] = 0\n",
    "y.groupby(y).count()"
   ]
  }
 ],
 "metadata": {
  "kernelspec": {
   "display_name": "Python 3",
   "language": "python",
   "name": "python3"
  },
  "language_info": {
   "codemirror_mode": {
    "name": "ipython",
    "version": 3
   },
   "file_extension": ".py",
   "mimetype": "text/x-python",
   "name": "python",
   "nbconvert_exporter": "python",
   "pygments_lexer": "ipython3",
   "version": "3.8.1"
  }
 },
 "nbformat": 4,
 "nbformat_minor": 4
}
