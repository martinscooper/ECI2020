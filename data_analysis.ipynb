{
 "cells": [
  {
   "cell_type": "code",
   "execution_count": 1,
   "metadata": {},
   "outputs": [],
   "source": [
    "import pandas as pd\n",
    "import numpy as np\n",
    "import matplotlib.pyplot as plt\n",
    "import seaborn as sns\n",
    "    \n",
    "sns.set()"
   ]
  },
  {
   "cell_type": "code",
   "execution_count": 2,
   "metadata": {},
   "outputs": [
    {
     "name": "stdout",
     "output_type": "stream",
     "text": [
      "Tamaños de entrenamiento\n",
      "Tamanio de X: (16947, 50)\n",
      "Tamanio de X_val: (2551, 50)\n",
      "Tamanio de y: (16947,)\n"
     ]
    }
   ],
   "source": [
    "df_train = pd.read_csv('CompetenciaECI/Entrenamieto_ECI_2020.csv', index_col = 'Opportunity_ID')\n",
    "df_val = pd.read_csv('CompetenciaECI/Validacion_ECI_2020.csv', index_col = 'Opportunity_ID')\n",
    "target = 'Stage'\n",
    "predictors = [x for x in df_train.columns if x not in [target]]\n",
    "y = df_train.loc[:,target].copy()\n",
    "y = (y=='Closed Won') * 1 \n",
    "df_train = df_train.loc[:, predictors]\n",
    "df = pd.concat([df_train,df_val], axis=0)\n",
    "print('Tamaños de entrenamiento')\n",
    "print(f'Tamanio de X: {df_train.shape}')\n",
    "print(f'Tamanio de X_val: {df_val.shape}')\n",
    "print(f'Tamanio de y: {y.shape}')"
   ]
  },
  {
   "cell_type": "markdown",
   "metadata": {},
   "source": [
    "## Valores faltantes"
   ]
  },
  {
   "cell_type": "code",
   "execution_count": null,
   "metadata": {},
   "outputs": [],
   "source": [
    "def nan_values(df):\n",
    "    total = df.isnull().sum().sort_values(ascending=False)\n",
    "    percent = (df.isnull().sum()/df.isnull().count()).sort_values(ascending=False)\n",
    "    missing_data = pd.concat([total, percent], axis=1, keys=['Total', 'Percent'])\n",
    "    print(missing_data.head(6))\n",
    "nan_values(df_train)\n",
    "nan_values(df_val)\n",
    "nan_values(df)"
   ]
  },
  {
   "cell_type": "markdown",
   "metadata": {},
   "source": [
    "## Analisis de variables numericas "
   ]
  },
  {
   "cell_type": "markdown",
   "metadata": {},
   "source": [
    "## Valores None en variables numericas"
   ]
  },
  {
   "cell_type": "code",
   "execution_count": null,
   "metadata": {},
   "outputs": [],
   "source": [
    "numerical_cols = ['Sales_Contract_No', 'ASP', 'ASP_(converted)', \n",
    "              'TRF', 'Total_Amount', 'Total_Taxable_Amount', 'ID']"
   ]
  },
  {
   "cell_type": "code",
   "execution_count": null,
   "metadata": {},
   "outputs": [],
   "source": [
    "def none_values(df):\n",
    "    df_num = df[numerical_cols]\n",
    "    total = df_num.apply(lambda x: x=='None').sum().sort_values(ascending=False)\n",
    "    percent = (total/df_num.apply(lambda x: x=='None').count()).sort_values(ascending=False)\n",
    "    missing_data = pd.concat([total, percent], axis=1, keys=['Total', 'Percent'])\n",
    "    print(missing_data.head(12))\n",
    "none_values(df_train)\n",
    "none_values(df_val)\n",
    "none_values(df)"
   ]
  },
  {
   "cell_type": "markdown",
   "metadata": {},
   "source": [
    "## Analisis de variables categoricas "
   ]
  },
  {
   "cell_type": "code",
   "execution_count": null,
   "metadata": {},
   "outputs": [],
   "source": [
    "binary_cols = ['Pricing, Delivery_Terms_Quote_Appr', 'Pricing, Delivery_Terms_Approved', \n",
    "           'Bureaucratic_Code_0_Approval','Bureaucratic_Code_0_Approved']\n",
    "\n",
    "categorical_cols = ['Region','Territory','Bureaucratic_Code', \n",
    "                'Source ','Billing_Country','Account_Name',\n",
    "                'Opportunity_Name', 'Account_Owner',\n",
    "               'Opportunity_Owner','Account_Type', 'Opportunity_Type', \n",
    "                'Quote_Type', 'Delivery_Terms', 'Brand', 'Product_Type', \n",
    "                'Size','Product_Category_B', 'Currency', 'Last_Modified_By',\n",
    "                'Product_Family', 'Product_Name', 'ASP_Currency',\n",
    "                'ASP_(converted)_Currency','Delivery_Quarter',\n",
    "                'Total_Taxable_Amount_Currency',\n",
    "                'Prod_Category_A', 'Total_Amount_Currency'\n",
    "               ]\n",
    "cols = binary_cols + categorical_cols"
   ]
  },
  {
   "cell_type": "code",
   "execution_count": null,
   "metadata": {},
   "outputs": [],
   "source": [
    "for d in [df, df_train, df_val]:\n",
    "    d[cols] = d[cols].astype('category')"
   ]
  },
  {
   "cell_type": "markdown",
   "metadata": {},
   "source": [
    "### Como cambian las variables categoricas dentro de una misma oportunidad"
   ]
  },
  {
   "cell_type": "code",
   "execution_count": null,
   "metadata": {},
   "outputs": [],
   "source": [
    "# Que categorias tienen presentes diferentes valores en una misma oportunidad?\n",
    "# Product_Family, Product_Name y Delivery_Quarter\n",
    "\n",
    "d = df.select_dtypes(include=['category'])\n",
    "group = d.groupby(d.index)\n",
    "for col in d.columns:\n",
    "    print(col)\n",
    "    print(group[col].apply(lambda x: len(set(x))!=1).sum())"
   ]
  },
  {
   "cell_type": "markdown",
   "metadata": {},
   "source": [
    "## Valores None en columnas categoricas/binarias"
   ]
  },
  {
   "cell_type": "code",
   "execution_count": null,
   "metadata": {},
   "outputs": [],
   "source": [
    "#df[numerical_cols] = df[numerical_cols].astype('float64')\n",
    "def none_values(df):\n",
    "    df_cat = df[cols]\n",
    "    total = df_cat.apply(lambda x: x=='None').sum().sort_values(ascending=False)\n",
    "    percent = (total/df_cat.apply(lambda x: x=='None').count()).sort_values(ascending=False)\n",
    "    missing_data = pd.concat([total, percent], axis=1, keys=['Total', 'Percent'])\n",
    "    print(missing_data.head(12))\n",
    "none_values(df_train)\n",
    "none_values(df_val)\n",
    "none_values(df)"
   ]
  },
  {
   "cell_type": "markdown",
   "metadata": {},
   "source": [
    "## Relacion entre las categorias y la variable objetivo"
   ]
  },
  {
   "cell_type": "code",
   "execution_count": null,
   "metadata": {},
   "outputs": [],
   "source": [
    "d = pd.concat([df_train, y], axis=1)\n",
    "for col in d.select_dtypes(include='category').columns:\n",
    "    groups = d.groupby(col)\n",
    "    print(d.groupby(col).agg({col:'count', 'Stage':'mean'}).sort_values('Stage', ascending=False).head(30))\n"
   ]
  },
  {
   "cell_type": "markdown",
   "metadata": {},
   "source": [
    "### Cantidad de categorias por variable categorica"
   ]
  },
  {
   "cell_type": "code",
   "execution_count": null,
   "metadata": {},
   "outputs": [],
   "source": [
    "df.select_dtypes(include='category').nunique().sort_values(ascending=False)"
   ]
  },
  {
   "cell_type": "markdown",
   "metadata": {},
   "source": [
    "### Relation Region/Territorio\n",
    "- Cuanto el Territorio es None la region en gral es Japan\n",
    "- Japon tiene su propio territorio\n",
    "- Hay 5000 Nones en Territorio, siendo la mayoria de la region Japan\n",
    "- Decision: se completan los Nones con el nombre de las Region"
   ]
  },
  {
   "cell_type": "code",
   "execution_count": null,
   "metadata": {},
   "outputs": [],
   "source": [
    "# territorios por region\n",
    "df.loc[:,['Territory','Region']].groupby('Region')['Territory'].apply(set)"
   ]
  },
  {
   "cell_type": "code",
   "execution_count": null,
   "metadata": {},
   "outputs": [],
   "source": [
    "# a que region corresponden los valores nulos de los territorios?\n",
    "df.loc[df['Territory']=='None',['Territory','Region']].groupby('Region')['Region'].count()"
   ]
  },
  {
   "cell_type": "code",
   "execution_count": null,
   "metadata": {},
   "outputs": [],
   "source": [
    "# cuando la region es japon, hay muchos nones \n",
    "df.loc[df['Region']=='Japan',['Territory','Region']].groupby('Territory')['Territory'].count().sort_values(ascending=False)"
   ]
  },
  {
   "cell_type": "markdown",
   "metadata": {},
   "source": [
    "## Cantidad de registros por tipo en cada categoria y cantidad de categorias"
   ]
  },
  {
   "cell_type": "code",
   "execution_count": null,
   "metadata": {},
   "outputs": [],
   "source": [
    "def print_categorical_values(cat):\n",
    "    groups = df.groupby([cat])[cat]\n",
    "    print(groups.size().sort_values(ascending=False))\n",
    "    print(len(groups))\n",
    "    print()"
   ]
  },
  {
   "cell_type": "code",
   "execution_count": null,
   "metadata": {},
   "outputs": [],
   "source": [
    "for cat in categorical_cols:\n",
    "    print_categorical_values(cat)"
   ]
  },
  {
   "cell_type": "markdown",
   "metadata": {},
   "source": [
    "## Analisis variables fechas"
   ]
  },
  {
   "cell_type": "code",
   "execution_count": 3,
   "metadata": {},
   "outputs": [],
   "source": [
    "datetime_cols = ['Account_Created_Date', 'Opportunity_Created_Date',\n",
    "             'Last_Activity','Quote_Expiry_Date', 'Last_Modified_Date',\n",
    "             'Planned_Delivery_Start_Date', 'Planned_Delivery_End_Date',\n",
    "             'Actual_Delivery_Date']"
   ]
  },
  {
   "cell_type": "code",
   "execution_count": 4,
   "metadata": {},
   "outputs": [],
   "source": [
    "for d in [df,df_val,df_train]:\n",
    "    for col in datetime_cols:\n",
    "        d[col] = pd.to_datetime(d[col])"
   ]
  },
  {
   "cell_type": "code",
   "execution_count": 5,
   "metadata": {},
   "outputs": [
    {
     "name": "stdout",
     "output_type": "stream",
     "text": [
      "Account_Created_Date\n",
      "0\n",
      "Opportunity_Created_Date\n",
      "0\n",
      "Last_Activity\n",
      "0\n",
      "Quote_Expiry_Date\n",
      "0\n",
      "Last_Modified_Date\n",
      "0\n",
      "Planned_Delivery_Start_Date\n",
      "969\n",
      "Planned_Delivery_End_Date\n",
      "1014\n",
      "Actual_Delivery_Date\n",
      "0\n"
     ]
    }
   ],
   "source": [
    "d = df.select_dtypes(include=['datetime'])\n",
    "group = d.groupby(d.index)\n",
    "for col in d.columns:\n",
    "    print(col)\n",
    "    print(group[col].apply(lambda x: len(set(x))!=1).sum())"
   ]
  },
  {
   "cell_type": "code",
   "execution_count": 64,
   "metadata": {},
   "outputs": [
    {
     "data": {
      "text/plain": [
       "Opportunity_ID\n",
       "0        92.0\n",
       "1        93.0\n",
       "2        96.0\n",
       "3        97.0\n",
       "4        98.0\n",
       "         ... \n",
       "12799    96.0\n",
       "12800    97.0\n",
       "12801    98.0\n",
       "12802    95.0\n",
       "12803    94.0\n",
       "Name: count, Length: 9841, dtype: float64"
      ]
     },
     "execution_count": 64,
     "metadata": {},
     "output_type": "execute_result"
    },
    {
     "data": {
      "image/png": "[encoded data removed]",
      "text/plain": [
       "<Figure size 432x288 with 1 Axes>"
      ]
     },
     "metadata": {},
     "output_type": "display_data"
    }
   ],
   "source": [
    "d = df_train\n",
    "d = d.groupby(d.index).Opportunity_Created_Date.first().to_frame('date')\n",
    "d_date = pd.Series(d.index, index=d.date, name='count').sort_index()\n",
    "count = d_date.rolling('30d').count() - 1\n",
    "sns.distplot(count, kde=False)\n",
    "count.index = d_date.values\n",
    "count.reindex(d.index)"
   ]
  },
  {
   "cell_type": "code",
   "execution_count": 54,
   "metadata": {},
   "outputs": [
    {
     "data": {
      "text/plain": [
       "12369     0.0\n",
       "12370     0.0\n",
       "12371     0.0\n",
       "12372     0.0\n",
       "12373     1.0\n",
       "         ... \n",
       "11196    32.0\n",
       "11200    33.0\n",
       "11205    25.0\n",
       "11215     4.0\n",
       "11218     4.0\n",
       "Name: count, Length: 9841, dtype: float64"
      ]
     },
     "execution_count": 54,
     "metadata": {},
     "output_type": "execute_result"
    }
   ],
   "source": []
  },
  {
   "cell_type": "code",
   "execution_count": 6,
   "metadata": {},
   "outputs": [
    {
     "data": {
      "text/plain": [
       "Account_Created_Date               0\n",
       "Opportunity_Created_Date           0\n",
       "Last_Activity                  19498\n",
       "Quote_Expiry_Date               5861\n",
       "Last_Modified_Date                 0\n",
       "Planned_Delivery_Start_Date        0\n",
       "Planned_Delivery_End_Date        126\n",
       "Actual_Delivery_Date           19498\n",
       "dtype: int64"
      ]
     },
     "execution_count": 6,
     "metadata": {},
     "output_type": "execute_result"
    }
   ],
   "source": [
    "df[datetime_cols].isna().sum()"
   ]
  },
  {
   "cell_type": "code",
   "execution_count": 11,
   "metadata": {},
   "outputs": [
    {
     "name": "stdout",
     "output_type": "stream",
     "text": [
      "Account_Created_Date\n",
      "2013-07-27    3061\n",
      "2015-04-20    3014\n",
      "2013-09-23     610\n",
      "2014-09-19     397\n",
      "2015-12-21     365\n",
      "2013-08-22     327\n",
      "2013-07-28     307\n",
      "2013-10-03     276\n",
      "2016-09-28     236\n",
      "2016-01-29     215\n",
      "2016-03-03     200\n",
      "2017-02-20     183\n",
      "2013-09-05     147\n",
      "2015-10-30     123\n",
      "2016-07-11     113\n",
      "2015-06-17     112\n",
      "2014-02-28     112\n",
      "2017-07-05     102\n",
      "2017-05-20      99\n",
      "2016-04-18      97\n",
      "Name: Account_Created_Date, dtype: int64\n",
      "Opportunity_Created_Date\n",
      "2017-06-30    124\n",
      "2016-01-22    107\n",
      "2017-05-09    104\n",
      "2016-05-18     99\n",
      "2016-01-07     89\n",
      "2018-01-30     87\n",
      "2017-10-02     86\n",
      "2017-04-20     83\n",
      "2019-04-11     83\n",
      "2017-12-06     82\n",
      "2017-10-24     80\n",
      "2017-03-15     80\n",
      "2017-05-15     77\n",
      "2019-01-17     76\n",
      "2016-02-15     76\n",
      "2016-01-06     74\n",
      "2017-05-02     73\n",
      "2017-12-08     72\n",
      "2018-05-04     72\n",
      "2019-02-07     71\n",
      "Name: Opportunity_Created_Date, dtype: int64\n",
      "Series([], Name: Last_Activity, dtype: int64)\n",
      "Quote_Expiry_Date\n",
      "2017-06-30    436\n",
      "2017-03-31    363\n",
      "2017-09-30    225\n",
      "2016-12-31    200\n",
      "2017-10-31    171\n",
      "2018-01-31    163\n",
      "2017-12-31    156\n",
      "2017-11-30    156\n",
      "2017-05-31    153\n",
      "2017-08-31    145\n",
      "2017-07-31    139\n",
      "2019-04-30    117\n",
      "2018-05-31    115\n",
      "2016-09-30    111\n",
      "2019-03-29    111\n",
      "2018-07-31    103\n",
      "2016-06-30    102\n",
      "2018-11-30    102\n",
      "2018-08-31     92\n",
      "2018-04-30     92\n",
      "Name: Quote_Expiry_Date, dtype: int64\n",
      "Last_Modified_Date\n",
      "2018-02-08    5821\n",
      "2016-12-04    2673\n",
      "2018-09-06     257\n",
      "2018-09-26     206\n",
      "2018-06-09     187\n",
      "2017-02-22     173\n",
      "2019-04-15     161\n",
      "2019-04-12     116\n",
      "2016-01-21     116\n",
      "2019-04-04     115\n",
      "2017-01-12      97\n",
      "2016-04-05      95\n",
      "2018-02-26      92\n",
      "2018-03-16      90\n",
      "2019-03-14      87\n",
      "2019-04-13      77\n",
      "2018-03-24      75\n",
      "2017-02-10      73\n",
      "2017-09-08      71\n",
      "2018-03-27      70\n",
      "Name: Last_Modified_Date, dtype: int64\n",
      "Planned_Delivery_Start_Date\n",
      "2016-03-31    381\n",
      "2016-02-29    273\n",
      "2018-10-01    211\n",
      "2018-04-02    207\n",
      "2019-04-01    186\n",
      "2018-07-02    169\n",
      "2018-02-01    150\n",
      "2018-06-01    146\n",
      "2018-03-01    139\n",
      "2017-10-02    128\n",
      "2018-08-01    127\n",
      "2017-08-01    126\n",
      "2018-05-01    125\n",
      "2016-05-31    116\n",
      "2016-06-30    116\n",
      "2016-09-30    115\n",
      "2018-01-01    110\n",
      "2017-03-27    101\n",
      "2017-06-01    100\n",
      "2018-10-15     98\n",
      "Name: Planned_Delivery_Start_Date, dtype: int64\n",
      "Planned_Delivery_End_Date\n",
      "2016-03-31    451\n",
      "2017-06-30    322\n",
      "2016-02-29    300\n",
      "2018-09-28    262\n",
      "2018-06-29    249\n",
      "2016-06-30    228\n",
      "2016-09-30    225\n",
      "2018-12-31    207\n",
      "2017-03-31    206\n",
      "2017-12-31    189\n",
      "2018-03-30    182\n",
      "2019-12-31    173\n",
      "2018-08-31    172\n",
      "2019-03-31    164\n",
      "2017-08-31    162\n",
      "2018-11-30    157\n",
      "2017-09-30    154\n",
      "2016-08-31    150\n",
      "2019-03-29    149\n",
      "2018-05-31    146\n",
      "Name: Planned_Delivery_End_Date, dtype: int64\n",
      "Series([], Name: Actual_Delivery_Date, dtype: int64)\n"
     ]
    }
   ],
   "source": [
    "for col in datetime_cols:\n",
    "    s = pd.Series(df.index, index=df[col], name=col)\n",
    "    print(s.groupby(s.index).size().sort_values(ascending=False).head(20))\n",
    "    "
   ]
  },
  {
   "cell_type": "code",
   "execution_count": null,
   "metadata": {},
   "outputs": [],
   "source": [
    "def none_values(df):\n",
    "    f = lambda x: x.isnull()\n",
    "    df_date = df[datetime_cols]\n",
    "    total = df_date.apply(f).sum().sort_values(ascending=False)\n",
    "    percent = (total/df_date.apply(f).count()).sort_values(ascending=False)\n",
    "    missing_data = pd.concat([total, percent], axis=1, keys=['Total', 'Percent'])\n",
    "    print(missing_data)\n",
    "none_values(df_train)\n",
    "none_values(df_val)\n",
    "none_values(df)"
   ]
  },
  {
   "cell_type": "code",
   "execution_count": null,
   "metadata": {},
   "outputs": [],
   "source": [
    "# Quiero ver cual es la relacion entre Quote_Expiry_Date y la variable objectivo\n",
    "# en 12mil de los casos de entrenamiento, cuando la fecha de vencimiento del presupuesto esta seteada, la oportunidad se gana\n",
    "quote_not_set = df_train['Quote_Expiry_Date'].isnull()\n",
    "print((quote_not_set != y.astype('bool')).sum())\n",
    "\n",
    "# y siempre se mantiene igual para la misma oportunidad\n",
    "print(quote_not_set.groupby(quote_not_set).apply(lambda x: len(set(x))!=1).sum())"
   ]
  },
  {
   "cell_type": "code",
   "execution_count": null,
   "metadata": {},
   "outputs": [],
   "source": [
    "# Las unicas variables de fecha que varian para una misma son Planned_Delivery_Start_Date y Planned_Delivery_End_Date\n",
    "d = pd.concat([df_train, df_val], axis=0).select_dtypes(include=['datetime'])\n",
    "for col in d.columns:\n",
    "    print(col)\n",
    "    print(d.groupby(d.index)[col].apply(lambda x: len(set(x))>1).sum())"
   ]
  },
  {
   "cell_type": "markdown",
   "metadata": {},
   "source": [
    "## Posibles target leackage\n",
    "- Submitted_for_Approval: casi toda 0\n",
    "- Delivery_Terms: nop\n",
    "- Quote_Expiry_Date\n",
    "- Actual_Delivery_Date: es puro NaT\n",
    "- Total_Power: no esta en el dataset (tampoco la categorica correspondiente)\n",
    "- Sales_Contract_No"
   ]
  },
  {
   "cell_type": "code",
   "execution_count": null,
   "metadata": {},
   "outputs": [],
   "source": [
    "# los tipos de terminos no muestran un especial inclinacion haciia las oportunidades perdidas o ganadas\n",
    "d = pd.concat([df_train, y], axis=1)\n",
    "d.groupby('Delivery_Terms').agg({'Delivery_Terms':'count', 'Stage':'mean'}).sort_values('Stage', ascending=False)"
   ]
  },
  {
   "cell_type": "code",
   "execution_count": 15,
   "metadata": {},
   "outputs": [
    {
     "data": {
      "text/html": [
       "<div>\n",
       "<style scoped>\n",
       "    .dataframe tbody tr th:only-of-type {\n",
       "        vertical-align: middle;\n",
       "    }\n",
       "\n",
       "    .dataframe tbody tr th {\n",
       "        vertical-align: top;\n",
       "    }\n",
       "\n",
       "    .dataframe thead tr th {\n",
       "        text-align: left;\n",
       "    }\n",
       "\n",
       "    .dataframe thead tr:last-of-type th {\n",
       "        text-align: right;\n",
       "    }\n",
       "</style>\n",
       "<table border=\"1\" class=\"dataframe\">\n",
       "  <thead>\n",
       "    <tr>\n",
       "      <th></th>\n",
       "      <th colspan=\"2\" halign=\"left\">Stage</th>\n",
       "    </tr>\n",
       "    <tr>\n",
       "      <th></th>\n",
       "      <th>count</th>\n",
       "      <th>mean</th>\n",
       "    </tr>\n",
       "    <tr>\n",
       "      <th>isNone</th>\n",
       "      <th></th>\n",
       "      <th></th>\n",
       "    </tr>\n",
       "  </thead>\n",
       "  <tbody>\n",
       "    <tr>\n",
       "      <th>False</th>\n",
       "      <td>5266</td>\n",
       "      <td>0.943980</td>\n",
       "    </tr>\n",
       "    <tr>\n",
       "      <th>True</th>\n",
       "      <td>4575</td>\n",
       "      <td>0.022077</td>\n",
       "    </tr>\n",
       "  </tbody>\n",
       "</table>\n",
       "</div>"
      ],
      "text/plain": [
       "       Stage          \n",
       "       count      mean\n",
       "isNone                \n",
       "False   5266  0.943980\n",
       "True    4575  0.022077"
      ]
     },
     "execution_count": 15,
     "metadata": {},
     "output_type": "execute_result"
    }
   ],
   "source": [
    "# Esta parece ser el target Leackage, los productos que \n",
    "# no tienen Sales_Contract_No tienen un bajisimo numero de exito\n",
    "d = pd.concat([df_train, y], axis=1).loc[:,['Sales_Contract_No','Stage']]\n",
    "d = d.groupby(d.index).first()\n",
    "d['isNone'] = d.Sales_Contract_No == 'None'\n",
    "d = d.groupby('isNone').agg(['count','mean'])\n",
    "d.sort_values(d.columns[0], ascending=False)\n",
    "# sigo en la proxima celda"
   ]
  },
  {
   "cell_type": "code",
   "execution_count": 14,
   "metadata": {},
   "outputs": [
    {
     "data": {
      "text/html": [
       "<div>\n",
       "<style scoped>\n",
       "    .dataframe tbody tr th:only-of-type {\n",
       "        vertical-align: middle;\n",
       "    }\n",
       "\n",
       "    .dataframe tbody tr th {\n",
       "        vertical-align: top;\n",
       "    }\n",
       "\n",
       "    .dataframe thead tr th {\n",
       "        text-align: left;\n",
       "    }\n",
       "\n",
       "    .dataframe thead tr:last-of-type th {\n",
       "        text-align: right;\n",
       "    }\n",
       "</style>\n",
       "<table border=\"1\" class=\"dataframe\">\n",
       "  <thead>\n",
       "    <tr>\n",
       "      <th></th>\n",
       "      <th colspan=\"2\" halign=\"left\">Stage</th>\n",
       "    </tr>\n",
       "    <tr>\n",
       "      <th></th>\n",
       "      <th>count</th>\n",
       "      <th>mean</th>\n",
       "    </tr>\n",
       "    <tr>\n",
       "      <th>isNone</th>\n",
       "      <th></th>\n",
       "      <th></th>\n",
       "    </tr>\n",
       "  </thead>\n",
       "  <tbody>\n",
       "    <tr>\n",
       "      <th>False</th>\n",
       "      <td>7489</td>\n",
       "      <td>0.569769</td>\n",
       "    </tr>\n",
       "    <tr>\n",
       "      <th>True</th>\n",
       "      <td>2352</td>\n",
       "      <td>0.342262</td>\n",
       "    </tr>\n",
       "  </tbody>\n",
       "</table>\n",
       "</div>"
      ],
      "text/plain": [
       "       Stage          \n",
       "       count      mean\n",
       "isNone                \n",
       "False   7489  0.569769\n",
       "True    2352  0.342262"
      ]
     },
     "execution_count": 14,
     "metadata": {},
     "output_type": "execute_result"
    }
   ],
   "source": [
    "# Esta parece ser el target Leackage, los productos que \n",
    "# no tienen Sales_Contract_No tienen un bajisimo numero de exito\n",
    "d = pd.concat([df_train, y], axis=1).loc[:,['Quote_Expiry_Date','Stage']]\n",
    "d = d.groupby(d.index).first()\n",
    "d['isNone'] = d['Quote_Expiry_Date'].isnull()\n",
    "d = d.groupby('isNone').agg(['count','mean'])\n",
    "d.sort_values(d.columns[0], ascending=False)\n",
    "# sigo en la proxima celda"
   ]
  },
  {
   "cell_type": "code",
   "execution_count": null,
   "metadata": {},
   "outputs": [],
   "source": [
    "d = pd.concat([df_train, df_val], axis=0)\n",
    "d.Sales_Contract_No == 'None'"
   ]
  }
 ],
 "metadata": {
  "kernelspec": {
   "display_name": "Python 3",
   "language": "python",
   "name": "python3"
  },
  "language_info": {
   "codemirror_mode": {
    "name": "ipython",
    "version": 3
   },
   "file_extension": ".py",
   "mimetype": "text/x-python",
   "name": "python",
   "nbconvert_exporter": "python",
   "pygments_lexer": "ipython3",
   "version": "3.8.1"
  }
 },
 "nbformat": 4,
 "nbformat_minor": 4
}
